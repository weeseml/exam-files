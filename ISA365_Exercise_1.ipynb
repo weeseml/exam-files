{
  "nbformat": 4,
  "nbformat_minor": 0,
  "metadata": {
    "colab": {
      "name": "ISA365 Exercise 1.ipynb",
      "provenance": [],
      "authorship_tag": "ABX9TyNfKoIwQNY1Oa5tdCBr1t+P",
      "include_colab_link": true
    },
    "kernelspec": {
      "name": "ir",
      "display_name": "R"
    },
    "language_info": {
      "name": "R"
    },
    "gpuClass": "standard"
  },
  "cells": [
    {
      "cell_type": "markdown",
      "metadata": {
        "id": "view-in-github",
        "colab_type": "text"
      },
      "source": [
        "<a href=\"https://colab.research.google.com/github/weeseml/exam-files/blob/master/ISA365_Exercise_1.ipynb\" target=\"_parent\"><img src=\"https://colab.research.google.com/assets/colab-badge.svg\" alt=\"Open In Colab\"/></a>"
      ]
    },
    {
      "cell_type": "markdown",
      "source": [
        "# **In Class Exercise #1**"
      ],
      "metadata": {
        "id": "NWPAcSWYFA8F"
      }
    },
    {
      "cell_type": "markdown",
      "source": [
        "In this exercise, we are going to practice some basic statistics skills and learn a little bit about R in the process.  First let's discuss how we are using R in this notebook vs. how you will use R in your homework.  \n",
        "\n",
        "This is a Google Colaboratory notebook that can execute Python or R code and be shared like a google doc.  I will use this format for in-class exercises.  In your homeowrk, you will use R-markdown.  Which is going to look pretty similar to this, except it will be local to your machine.  \n",
        "\n",
        "This enviroment will look a little differnt than the R studio enviroment you are used to.  But the code will work in both.  "
      ],
      "metadata": {
        "id": "_bpevRikEimA"
      }
    },
    {
      "cell_type": "markdown",
      "source": [
        "**Basic Statistical Probablity Calculations**"
      ],
      "metadata": {
        "id": "oGyOYsrLHJzL"
      }
    },
    {
      "cell_type": "markdown",
      "source": [
        "Many of you have used R to generate Normal and t-distribution probablities.  Many of you have used JMP to generate these probablities.  And maybe all of you have seen a table at one time or another.  Let's review how to get probablities from a distribution. \n",
        "\n",
        "\n",
        "![bapp03-fig-5001.jpg](data:image/jpeg;base64,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)\n",
        "\n",
        "In R, the functions are cummulative distribution functions.  The probablity or quantile that is returned is going to be as pictured above.  The probablity will be everything to the right of the quantile suggested and the quantile will use the probablity from 0 up to the number requested."
      ],
      "metadata": {
        "id": "0MU2fq0aHSXz"
      }
    },
    {
      "cell_type": "markdown",
      "source": [
        "If you would like to find a *probablity* from a standard normal distribution you will use the function *pnorm*.  If you would like to find the *z-statistic (quantile)* associated with a probablity that fills an area under the curve up to that number you will use *qnorm*.\n",
        "\n",
        "\n"
      ],
      "metadata": {
        "id": "LF45YB0lIhd9"
      }
    },
    {
      "cell_type": "markdown",
      "source": [
        "1. Using the standard normal distribution, what value of z is associated with the 90th percentile?"
      ],
      "metadata": {
        "id": "E2-DkDnzJh20"
      }
    },
    {
      "cell_type": "code",
      "execution_count": null,
      "metadata": {
        "colab": {
          "base_uri": "https://localhost:8080/",
          "height": 34
        },
        "id": "jVW7GrjwEUNl",
        "outputId": "a50ab96a-c22d-42c8-9186-62377ec0bd86"
      },
      "outputs": [
        {
          "output_type": "display_data",
          "data": {
            "text/html": [
              "1.2815515655446"
            ],
            "text/markdown": "1.2815515655446",
            "text/latex": "1.2815515655446",
            "text/plain": [
              "[1] 1.281552"
            ]
          },
          "metadata": {}
        }
      ],
      "source": [
        "qnorm(.90)"
      ]
    },
    {
      "cell_type": "markdown",
      "source": [
        "2. Using the standard normal distribution, what value of z is associated with the 95th percentile?  The 97.5th precentile?"
      ],
      "metadata": {
        "id": "ejIn8oXoKcl1"
      }
    },
    {
      "cell_type": "code",
      "source": [
        ""
      ],
      "metadata": {
        "id": "Ts-ux6FHKll2"
      },
      "execution_count": null,
      "outputs": []
    },
    {
      "cell_type": "markdown",
      "source": [
        "3. For a z-distribution, what value of z gives the probablity 0.01 in the upper tail?  "
      ],
      "metadata": {
        "id": "mO9IHW7_Kn0t"
      }
    },
    {
      "cell_type": "code",
      "source": [
        "qnorm(1-.01)\n"
      ],
      "metadata": {
        "colab": {
          "base_uri": "https://localhost:8080/",
          "height": 34
        },
        "id": "z8aH7sLELMWv",
        "outputId": "0163c5f3-e795-4d53-e949-216d715caafe"
      },
      "execution_count": null,
      "outputs": [
        {
          "output_type": "display_data",
          "data": {
            "text/html": [
              "2.32634787404084"
            ],
            "text/markdown": "2.32634787404084",
            "text/latex": "2.32634787404084",
            "text/plain": [
              "[1] 2.326348"
            ]
          },
          "metadata": {}
        }
      ]
    },
    {
      "cell_type": "markdown",
      "source": [
        "4. For a z-distribution, what value of z gives the probablity of 0.0005 in the upper tail? 0.08?"
      ],
      "metadata": {
        "id": "Wgr1hW0LLdUP"
      }
    },
    {
      "cell_type": "code",
      "source": [
        ""
      ],
      "metadata": {
        "id": "EZwihddjLjqd"
      },
      "execution_count": null,
      "outputs": []
    },
    {
      "cell_type": "markdown",
      "source": [
        "5. For a z-distribution, what is the area under the curve above a value of 1.96?"
      ],
      "metadata": {
        "id": "h98djKAxMdd0"
      }
    },
    {
      "cell_type": "code",
      "source": [
        "1-pnorm(1.96)"
      ],
      "metadata": {
        "colab": {
          "base_uri": "https://localhost:8080/",
          "height": 34
        },
        "id": "ZYRkeO1YMnEz",
        "outputId": "bd095d1a-4290-487b-eb72-8bd1701bf79c"
      },
      "execution_count": null,
      "outputs": [
        {
          "output_type": "display_data",
          "data": {
            "text/html": [
              "0.0249978951482204"
            ],
            "text/markdown": "0.0249978951482204",
            "text/latex": "0.0249978951482204",
            "text/plain": [
              "[1] 0.0249979"
            ]
          },
          "metadata": {}
        }
      ]
    },
    {
      "cell_type": "markdown",
      "source": [
        "6. For a z-distrubiton, what is the area under the curve above a value of 0.35? Below -1.28?"
      ],
      "metadata": {
        "id": "8034PkohMsk2"
      }
    },
    {
      "cell_type": "code",
      "source": [
        ""
      ],
      "metadata": {
        "id": "3BQ-dxrxM0j7"
      },
      "execution_count": null,
      "outputs": []
    },
    {
      "cell_type": "markdown",
      "source": [
        "Another distribution you are familar with is the t-distribution. Recall that the t-distribution requires the specificaion of the degrees of freedom to obtain a probabitilty.  The probablities depend on the sample size, since the degrees of freedom are calculated from n using various formulas.\n",
        "\n",
        "![325px-Student_t_pdf.svg.png](data:image/png;base64,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)"
      ],
      "metadata": {
        "id": "XJezuSJgLy51"
      }
    },
    {
      "cell_type": "markdown",
      "source": [
        "To obtain probabilities from the t-distrubiton in R you use the function *pt*.  To obtain the values of the t-distribution associated with a certain area under the curve or percentile, use *qt.*"
      ],
      "metadata": {
        "id": "rodJ9tGSMTq_"
      }
    },
    {
      "cell_type": "markdown",
      "source": [
        "7. Using the t-distribution, what is the value of t associated with an area under the curve of 0.90 with df=10?"
      ],
      "metadata": {
        "id": "wRBzX2gFNiSw"
      }
    },
    {
      "cell_type": "code",
      "source": [
        "qt(0.9, 10)"
      ],
      "metadata": {
        "colab": {
          "base_uri": "https://localhost:8080/",
          "height": 34
        },
        "id": "y3oijnUaNvxF",
        "outputId": "57b2c2d6-c57a-4644-e96a-08589ff5d4a5"
      },
      "execution_count": null,
      "outputs": [
        {
          "output_type": "display_data",
          "data": {
            "text/html": [
              "1.37218364111034"
            ],
            "text/markdown": "1.37218364111034",
            "text/latex": "1.37218364111034",
            "text/plain": [
              "[1] 1.372184"
            ]
          },
          "metadata": {}
        }
      ]
    },
    {
      "cell_type": "markdown",
      "source": [
        "8. Using the t-distribution, what is the value of t associated with an area under the curve of 0.95 with df=20?  0.975 eith df=30?"
      ],
      "metadata": {
        "id": "SrA8ZCu6N5kh"
      }
    },
    {
      "cell_type": "code",
      "source": [
        ""
      ],
      "metadata": {
        "id": "rdMJgUn2OEaf"
      },
      "execution_count": null,
      "outputs": []
    },
    {
      "cell_type": "markdown",
      "source": [
        "9. For a t-distribution with df=10 what value of t gives the probablity 0.01 in the upper tail? "
      ],
      "metadata": {
        "id": "jXnwWuDhOJvY"
      }
    },
    {
      "cell_type": "code",
      "source": [
        "qt(1-0.1,10)\n",
        "qt(0.9, 10)"
      ],
      "metadata": {
        "colab": {
          "base_uri": "https://localhost:8080/",
          "height": 52
        },
        "id": "_0qvFIkgOWIw",
        "outputId": "8c113bea-cfa3-4ca7-bf44-b2ab091dc5dd"
      },
      "execution_count": null,
      "outputs": [
        {
          "output_type": "display_data",
          "data": {
            "text/html": [
              "1.37218364111034"
            ],
            "text/markdown": "1.37218364111034",
            "text/latex": "1.37218364111034",
            "text/plain": [
              "[1] 1.372184"
            ]
          },
          "metadata": {}
        },
        {
          "output_type": "display_data",
          "data": {
            "text/html": [
              "1.37218364111034"
            ],
            "text/markdown": "1.37218364111034",
            "text/latex": "1.37218364111034",
            "text/plain": [
              "[1] 1.372184"
            ]
          },
          "metadata": {}
        }
      ]
    },
    {
      "cell_type": "markdown",
      "source": [
        "10. For a t-distribution with df=20 what value of t gives the probablity 0.0005 un the upper tail? df=30, 0.08?"
      ],
      "metadata": {
        "id": "dhCj1YS9PBGK"
      }
    },
    {
      "cell_type": "code",
      "source": [
        ""
      ],
      "metadata": {
        "id": "kZFKQczFPKxi"
      },
      "execution_count": null,
      "outputs": []
    }
  ]
}